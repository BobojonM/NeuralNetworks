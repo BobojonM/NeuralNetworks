{
  "cells": [
    {
      "cell_type": "markdown",
      "metadata": {
        "id": "view-in-github",
        "colab_type": "text"
      },
      "source": [
        "<a href=\"https://colab.research.google.com/github/BobojonM/NeuralNetworks/blob/main/Test_3.ipynb\" target=\"_parent\"><img src=\"https://colab.research.google.com/assets/colab-badge.svg\" alt=\"Open In Colab\"/></a>"
      ]
    },
    {
      "cell_type": "markdown",
      "id": "12e3e615",
      "metadata": {
        "id": "12e3e615"
      },
      "source": [
        "## Task 1 (10 Points)"
      ]
    },
    {
      "cell_type": "markdown",
      "id": "ab52aedf",
      "metadata": {
        "id": "ab52aedf"
      },
      "source": [
        "Select padding sizes:"
      ]
    },
    {
      "cell_type": "code",
      "execution_count": 8,
      "id": "be5cc335",
      "metadata": {
        "id": "be5cc335"
      },
      "outputs": [],
      "source": [
        "import torch\n",
        "\n",
        "N = 4\n",
        "C = 3\n",
        "C_out = 10\n",
        "H = 8\n",
        "W = 16\n",
        "\n",
        "x = torch.ones((N, C, H, W))\n",
        "\n",
        "#torch.Size([4, 10, 8, 16])\n",
        "out1 = torch.nn.Conv2d(C, C_out, kernel_size=(3, 3), padding=(1, 1))(x)\n",
        "#print(out1.shape) # for self-test\n",
        "\n",
        "# torch.Size([4, 10, 8, 16])\n",
        "out2 = torch.nn.Conv2d(C, C_out, kernel_size=(5, 5), padding=(2, 2))(x)\n",
        "#print(out2.shape) # for self-test\n",
        "\n",
        "# torch.Size([4, 10, 8, 16])\n",
        "out3 = torch.nn.Conv2d(C, C_out, kernel_size=(7, 7), padding=(3, 3))(x)\n",
        "#print(out3.shape) # for self-test\n",
        "\n",
        "# torch.Size([4, 10, 8, 16])\n",
        "out4 = torch.nn.Conv2d(C, C_out, kernel_size=(9, 9), padding=(4, 4))(x)\n",
        "#print(out4.shape) # for self-test\n",
        "\n",
        "# torch.Size([4, 10, 8, 16])\n",
        "out5 = torch.nn.Conv2d(C, C_out, kernel_size=(3, 5), padding=(1, 2))(x)\n",
        "#print(out5.shape) # for self-test\n",
        "\n",
        "# torch.Size([4, 10, 22, 30])\n",
        "out6 = torch.nn.Conv2d(C, C_out, kernel_size=(3, 3), padding=(8, 8))(x)\n",
        "#print(out6.shape) # for self-test\n",
        "\n",
        "# torch.Size([4, 10, 7, 15])\n",
        "out7 = torch.nn.Conv2d(C, C_out, kernel_size=(4, 4), padding=(1, 1))(x)\n",
        "#print(out7.shape) # for self-test\n",
        "\n",
        "# torch.Size([4, 10, 9, 17])\n",
        "out8 = torch.nn.Conv2d(C, C_out, kernel_size=(2, 2), padding=(1, 1))(x)\n",
        "#print(out8.shape) # for self-test"
      ]
    },
    {
      "cell_type": "markdown",
      "id": "8e0e467e",
      "metadata": {
        "id": "8e0e467e"
      },
      "source": [
        "## Task 2 (40 Points)"
      ]
    },
    {
      "cell_type": "markdown",
      "id": "329c2efa",
      "metadata": {
        "id": "329c2efa"
      },
      "source": [
        "Develop an architecture according to the data from the article.\n",
        "To test the functionality, test your architecture on any suitable data set.\n",
        "\n",
        "### Architectural Design Strategies\n",
        "**Strategy 1.** Replace 3×3 filters with 1×1 filters\n",
        "Given a budget of a certain number of convolution filters, we can choose to make the majority of these filters 1×1, since a 1×1 filter has 9× fewer parameters than a 3×3 filter.\n",
        "\n",
        "**Strategy 2.** Decrease the number of input channels to 3×3 filters\n",
        "Consider a convolution layer that is comprised entirely of 3×3 filters. The total quantity of parameters in this layer is:\n",
        "(number of input channels) × (number of filters) × (3×3)\n",
        "We can decrease the number of input channels to 3×3 filters using squeeze layers, mentioned in the next section.\n",
        "\n",
        "**Strategy 3.** Downsample late in the network so that convolution layers have large activation maps\n",
        "The intuition is that large activation maps (due to delayed downsampling) can lead to higher classification accuracy.\n",
        "\n",
        "### Fire Module\n",
        "![](https://miro.medium.com/v2/resize:fit:930/format:webp/1*ONk0HfLLjDcUhUjuu8iq1w.png)\n",
        "A Fire module is comprised of: a squeeze convolution layer (which has only 1×1 filters), feeding into an expand layer that has a mix of 1×1 and 3×3 convolution filters.\n",
        "\n",
        "There are three tunable dimensions (hyperparameters) in a Fire module: s1×1, e1×1, and e3×3.\n",
        "\n",
        "s1×1: The number of 1×1 in squeeze layer.\n",
        "\n",
        "e1×1 and e3×3: The number of 1×1 and 3×3 in expand layer.\n",
        "\n",
        "When we use Fire modules we set s1×1 to be less than (e1×1 + e3×3), so the squeeze layer helps to limit the number of input channels to the 3×3 filters, as per Strategy 2 in previous section.\n",
        "To me, it is quite a like of Inception Module.\n",
        "\n",
        "![](https://miro.medium.com/v2/resize:fit:1400/format:webp/1*y87bqk95D-IndWdHM_K9-g.png)\n",
        "![](https://miro.medium.com/v2/resize:fit:4800/format:webp/1*XQGAKZb8kjoF_1lSXeIQxg.png)"
      ]
    },
    {
      "cell_type": "markdown",
      "id": "b02f06c6",
      "metadata": {
        "id": "b02f06c6"
      },
      "source": [
        "## Step 0. Data preparation."
      ]
    },
    {
      "cell_type": "code",
      "source": [
        "from google.colab import files\n",
        "files.upload()"
      ],
      "metadata": {
        "colab": {
          "base_uri": "https://localhost:8080/",
          "height": 92
        },
        "id": "qhNoROlt_QZf",
        "outputId": "7754c37c-64f2-4a2b-b8f4-f1c66452e301"
      },
      "id": "qhNoROlt_QZf",
      "execution_count": 6,
      "outputs": [
        {
          "output_type": "display_data",
          "data": {
            "text/plain": [
              "<IPython.core.display.HTML object>"
            ],
            "text/html": [
              "\n",
              "     <input type=\"file\" id=\"files-5c83c32e-b059-4f0f-ae47-879ea285a8c5\" name=\"files[]\" multiple disabled\n",
              "        style=\"border:none\" />\n",
              "     <output id=\"result-5c83c32e-b059-4f0f-ae47-879ea285a8c5\">\n",
              "      Upload widget is only available when the cell has been executed in the\n",
              "      current browser session. Please rerun this cell to enable.\n",
              "      </output>\n",
              "      <script>// Copyright 2017 Google LLC\n",
              "//\n",
              "// Licensed under the Apache License, Version 2.0 (the \"License\");\n",
              "// you may not use this file except in compliance with the License.\n",
              "// You may obtain a copy of the License at\n",
              "//\n",
              "//      http://www.apache.org/licenses/LICENSE-2.0\n",
              "//\n",
              "// Unless required by applicable law or agreed to in writing, software\n",
              "// distributed under the License is distributed on an \"AS IS\" BASIS,\n",
              "// WITHOUT WARRANTIES OR CONDITIONS OF ANY KIND, either express or implied.\n",
              "// See the License for the specific language governing permissions and\n",
              "// limitations under the License.\n",
              "\n",
              "/**\n",
              " * @fileoverview Helpers for google.colab Python module.\n",
              " */\n",
              "(function(scope) {\n",
              "function span(text, styleAttributes = {}) {\n",
              "  const element = document.createElement('span');\n",
              "  element.textContent = text;\n",
              "  for (const key of Object.keys(styleAttributes)) {\n",
              "    element.style[key] = styleAttributes[key];\n",
              "  }\n",
              "  return element;\n",
              "}\n",
              "\n",
              "// Max number of bytes which will be uploaded at a time.\n",
              "const MAX_PAYLOAD_SIZE = 100 * 1024;\n",
              "\n",
              "function _uploadFiles(inputId, outputId) {\n",
              "  const steps = uploadFilesStep(inputId, outputId);\n",
              "  const outputElement = document.getElementById(outputId);\n",
              "  // Cache steps on the outputElement to make it available for the next call\n",
              "  // to uploadFilesContinue from Python.\n",
              "  outputElement.steps = steps;\n",
              "\n",
              "  return _uploadFilesContinue(outputId);\n",
              "}\n",
              "\n",
              "// This is roughly an async generator (not supported in the browser yet),\n",
              "// where there are multiple asynchronous steps and the Python side is going\n",
              "// to poll for completion of each step.\n",
              "// This uses a Promise to block the python side on completion of each step,\n",
              "// then passes the result of the previous step as the input to the next step.\n",
              "function _uploadFilesContinue(outputId) {\n",
              "  const outputElement = document.getElementById(outputId);\n",
              "  const steps = outputElement.steps;\n",
              "\n",
              "  const next = steps.next(outputElement.lastPromiseValue);\n",
              "  return Promise.resolve(next.value.promise).then((value) => {\n",
              "    // Cache the last promise value to make it available to the next\n",
              "    // step of the generator.\n",
              "    outputElement.lastPromiseValue = value;\n",
              "    return next.value.response;\n",
              "  });\n",
              "}\n",
              "\n",
              "/**\n",
              " * Generator function which is called between each async step of the upload\n",
              " * process.\n",
              " * @param {string} inputId Element ID of the input file picker element.\n",
              " * @param {string} outputId Element ID of the output display.\n",
              " * @return {!Iterable<!Object>} Iterable of next steps.\n",
              " */\n",
              "function* uploadFilesStep(inputId, outputId) {\n",
              "  const inputElement = document.getElementById(inputId);\n",
              "  inputElement.disabled = false;\n",
              "\n",
              "  const outputElement = document.getElementById(outputId);\n",
              "  outputElement.innerHTML = '';\n",
              "\n",
              "  const pickedPromise = new Promise((resolve) => {\n",
              "    inputElement.addEventListener('change', (e) => {\n",
              "      resolve(e.target.files);\n",
              "    });\n",
              "  });\n",
              "\n",
              "  const cancel = document.createElement('button');\n",
              "  inputElement.parentElement.appendChild(cancel);\n",
              "  cancel.textContent = 'Cancel upload';\n",
              "  const cancelPromise = new Promise((resolve) => {\n",
              "    cancel.onclick = () => {\n",
              "      resolve(null);\n",
              "    };\n",
              "  });\n",
              "\n",
              "  // Wait for the user to pick the files.\n",
              "  const files = yield {\n",
              "    promise: Promise.race([pickedPromise, cancelPromise]),\n",
              "    response: {\n",
              "      action: 'starting',\n",
              "    }\n",
              "  };\n",
              "\n",
              "  cancel.remove();\n",
              "\n",
              "  // Disable the input element since further picks are not allowed.\n",
              "  inputElement.disabled = true;\n",
              "\n",
              "  if (!files) {\n",
              "    return {\n",
              "      response: {\n",
              "        action: 'complete',\n",
              "      }\n",
              "    };\n",
              "  }\n",
              "\n",
              "  for (const file of files) {\n",
              "    const li = document.createElement('li');\n",
              "    li.append(span(file.name, {fontWeight: 'bold'}));\n",
              "    li.append(span(\n",
              "        `(${file.type || 'n/a'}) - ${file.size} bytes, ` +\n",
              "        `last modified: ${\n",
              "            file.lastModifiedDate ? file.lastModifiedDate.toLocaleDateString() :\n",
              "                                    'n/a'} - `));\n",
              "    const percent = span('0% done');\n",
              "    li.appendChild(percent);\n",
              "\n",
              "    outputElement.appendChild(li);\n",
              "\n",
              "    const fileDataPromise = new Promise((resolve) => {\n",
              "      const reader = new FileReader();\n",
              "      reader.onload = (e) => {\n",
              "        resolve(e.target.result);\n",
              "      };\n",
              "      reader.readAsArrayBuffer(file);\n",
              "    });\n",
              "    // Wait for the data to be ready.\n",
              "    let fileData = yield {\n",
              "      promise: fileDataPromise,\n",
              "      response: {\n",
              "        action: 'continue',\n",
              "      }\n",
              "    };\n",
              "\n",
              "    // Use a chunked sending to avoid message size limits. See b/62115660.\n",
              "    let position = 0;\n",
              "    do {\n",
              "      const length = Math.min(fileData.byteLength - position, MAX_PAYLOAD_SIZE);\n",
              "      const chunk = new Uint8Array(fileData, position, length);\n",
              "      position += length;\n",
              "\n",
              "      const base64 = btoa(String.fromCharCode.apply(null, chunk));\n",
              "      yield {\n",
              "        response: {\n",
              "          action: 'append',\n",
              "          file: file.name,\n",
              "          data: base64,\n",
              "        },\n",
              "      };\n",
              "\n",
              "      let percentDone = fileData.byteLength === 0 ?\n",
              "          100 :\n",
              "          Math.round((position / fileData.byteLength) * 100);\n",
              "      percent.textContent = `${percentDone}% done`;\n",
              "\n",
              "    } while (position < fileData.byteLength);\n",
              "  }\n",
              "\n",
              "  // All done.\n",
              "  yield {\n",
              "    response: {\n",
              "      action: 'complete',\n",
              "    }\n",
              "  };\n",
              "}\n",
              "\n",
              "scope.google = scope.google || {};\n",
              "scope.google.colab = scope.google.colab || {};\n",
              "scope.google.colab._files = {\n",
              "  _uploadFiles,\n",
              "  _uploadFilesContinue,\n",
              "};\n",
              "})(self);\n",
              "</script> "
            ]
          },
          "metadata": {}
        },
        {
          "output_type": "stream",
          "name": "stdout",
          "text": [
            "Saving kaggle.json to kaggle.json\n"
          ]
        },
        {
          "output_type": "execute_result",
          "data": {
            "text/plain": [
              "{'kaggle.json': b'{\"username\":\"bobojonm\",\"key\":\"4aa2a11dd8e7344e8537f7bf3434fd7e\"}'}"
            ]
          },
          "metadata": {},
          "execution_count": 6
        }
      ]
    },
    {
      "cell_type": "code",
      "source": [
        "!rm -r ~/.kaggle\n",
        "!mkdir ~/.kaggle\n",
        "!mv ./kaggle.json ~/.kaggle/\n",
        "!chmod 600 ~/.kaggle/kaggle.json"
      ],
      "metadata": {
        "id": "Ke95Q6t_8nQd"
      },
      "id": "Ke95Q6t_8nQd",
      "execution_count": 7,
      "outputs": []
    },
    {
      "cell_type": "code",
      "source": [
        "!kaggle datasets download -d jessicali9530/stanford-cars-dataset"
      ],
      "metadata": {
        "colab": {
          "base_uri": "https://localhost:8080/"
        },
        "id": "xuco68j2_Wyo",
        "outputId": "5e8492f6-bdcb-444d-a8a9-116f5be634c5"
      },
      "id": "xuco68j2_Wyo",
      "execution_count": 8,
      "outputs": [
        {
          "output_type": "stream",
          "name": "stdout",
          "text": [
            "stanford-cars-dataset.zip: Skipping, found more recently modified local copy (use --force to force download)\n"
          ]
        }
      ]
    },
    {
      "cell_type": "code",
      "source": [
        "import zipfile\n",
        "zip_ref = zipfile.ZipFile('stanford-cars-dataset.zip', 'r')\n",
        "zip_ref.extractall('/stanford-cars')\n",
        "zip_ref.close()"
      ],
      "metadata": {
        "id": "_h7kupiQ_98T"
      },
      "id": "_h7kupiQ_98T",
      "execution_count": 10,
      "outputs": []
    },
    {
      "cell_type": "code",
      "source": [
        "import os\n",
        "print(os.listdir('/stanford-cars'))"
      ],
      "metadata": {
        "colab": {
          "base_uri": "https://localhost:8080/"
        },
        "id": "bv7lqnS-Ah2C",
        "outputId": "4388e7be-2fcb-4e37-f4c1-5e1b2c3e644e"
      },
      "id": "bv7lqnS-Ah2C",
      "execution_count": 11,
      "outputs": [
        {
          "output_type": "stream",
          "name": "stdout",
          "text": [
            "['cars_annos.mat', 'cars_train', 'cars_test']\n"
          ]
        }
      ]
    },
    {
      "cell_type": "code",
      "execution_count": 1,
      "id": "7209e6d0",
      "metadata": {
        "id": "7209e6d0"
      },
      "outputs": [],
      "source": [
        "import torch\n",
        "from torchvision import datasets, transforms\n",
        "from torch.utils.data import random_split, DataLoader\n",
        "\n",
        "# Define transformations\n",
        "transform = transforms.Compose([\n",
        "    transforms.Resize((224, 224)), # Resizing to the same size\n",
        "    transforms.ToTensor(),         # Convert PIL image to PyTorch tensor\n",
        "    transforms.Normalize((0.5, 0.5, 0.5), (0.5, 0.5, 0.5))  # Normalize tensor values between [-1, 1]\n",
        "])\n",
        "\n",
        "# Load datasets using ImageFolder\n",
        "train_dataset = datasets.ImageFolder(root='/stanford-cars/cars_train/', transform=transform)\n",
        "test_dataset = datasets.ImageFolder(root='/stanford-cars/cars_test/', transform=transform)\n",
        "\n",
        "# Split the training dataset into training and validation sets\n",
        "train_len = int(0.8 * len(train_dataset))\n",
        "val_len = len(train_dataset) - train_len\n",
        "\n",
        "train_data, val_data = random_split(train_dataset, [train_len, val_len])\n",
        "\n",
        "# Create DataLoaders\n",
        "train_loader = DataLoader(train_data, batch_size=32, shuffle=True)\n",
        "val_loader = DataLoader(val_data, batch_size=32, shuffle=False)\n",
        "test_loader = DataLoader(test_dataset, batch_size=32, shuffle=False)\n"
      ]
    },
    {
      "cell_type": "markdown",
      "id": "74a4e84f",
      "metadata": {
        "id": "74a4e84f"
      },
      "source": [
        "## Step 1. Neural network architecture"
      ]
    },
    {
      "cell_type": "code",
      "execution_count": 2,
      "id": "a601be60",
      "metadata": {
        "id": "a601be60"
      },
      "outputs": [],
      "source": [
        "import torch.nn as nn\n",
        "\n",
        "class Fire(nn.Module):\n",
        "    def __init__(self, x, s1x1, e1x1, e3x3):\n",
        "        super(Fire, self).__init__()\n",
        "\n",
        "        self.s1x1 = nn.Conv2d(x, s1x1, kernel_size=1, padding=1)\n",
        "        self.ac1 = nn.ReLU(inplace=True)\n",
        "\n",
        "        self.e1x1 = nn.Conv2d(s1x1, e1x1, kernel_size=1)\n",
        "        self.ac2 = nn.ReLU(inplace=True)\n",
        "\n",
        "        self.e3x3 = nn.Conv2d(s1x1, e3x3, kernel_size=3, padding=1)\n",
        "        self.ac3 = nn.ReLU(inplace=True)\n",
        "\n",
        "    def forward(self, x):\n",
        "        x = self.ac1(self.s1x1(x))\n",
        "        return torch.cat([\n",
        "            self.ac2(self.e1x1(x)),\n",
        "            self.ac3(self.e3x3(x))\n",
        "        ], 1)\n",
        "\n",
        "\n",
        "class SqueezeNet(nn.Module):\n",
        "    def __init__(self, num_classes=1000):\n",
        "        super(SqueezeNet, self).__init__()\n",
        "\n",
        "        self.conv1 = nn.Conv2d(3, 96, kernel_size=7, stride=2, padding=3)\n",
        "        self.ac1 = nn.ReLU(inplace=True)\n",
        "        self.pool1 = nn.MaxPool2d(kernel_size=3, stride=2, padding=1)\n",
        "\n",
        "        self.fire1 = Fire(96, 16, 64, 64)\n",
        "        self.fire2 = Fire(128, 16, 64, 64)\n",
        "        self.fire3 = Fire(128, 32, 128, 128)\n",
        "        self.pool2 = nn.MaxPool2d(kernel_size=3, stride=2, padding=1)\n",
        "        self.fire4 = Fire(256, 32, 128, 128)\n",
        "        self.fire5 = Fire(256, 48, 192, 192)\n",
        "        self.fire6 = Fire(384, 48, 192, 192)\n",
        "        self.fire7 = Fire(384, 64, 256, 256)\n",
        "        self.pool3 = nn.MaxPool2d(kernel_size=3, stride=2, padding=1)\n",
        "        self.fire8 = Fire(512, 64, 256, 256)\n",
        "\n",
        "        self.conv2 = nn.Conv2d(512, num_classes, kernel_size=1)\n",
        "        self.ac2 = nn.ReLU(inplace=True)\n",
        "        self.avpool = nn.AdaptiveAvgPool2d((1, 1))\n",
        "\n",
        "    def forward(self, x):\n",
        "        x = self.conv1(x)\n",
        "        x = self.ac1(x)\n",
        "        x = self.pool1(x)\n",
        "\n",
        "        x = self.fire1(x)\n",
        "        x = self.fire2(x)\n",
        "        x = self.fire3(x)\n",
        "        x = self.pool2(x)\n",
        "        x = self.fire4(x)\n",
        "        x = self.fire5(x)\n",
        "        x = self.fire6(x)\n",
        "        x = self.fire7(x)\n",
        "\n",
        "        x = self.pool3(x)\n",
        "        x = self.fire8(x)\n",
        "\n",
        "        x = self.conv2(x)\n",
        "        x = self.ac2(x)\n",
        "        x = self.avpool(x)\n",
        "\n",
        "        return torch.flatten(x, 1)\n",
        "\n",
        "model = SqueezeNet()"
      ]
    },
    {
      "cell_type": "code",
      "source": [
        "device = torch.device('cuda:0' if torch.cuda.is_available() else 'cpu')\n",
        "model = model.to(device)"
      ],
      "metadata": {
        "id": "j9q9A_wFLnTi"
      },
      "id": "j9q9A_wFLnTi",
      "execution_count": 3,
      "outputs": []
    },
    {
      "cell_type": "markdown",
      "id": "6947b78d",
      "metadata": {
        "id": "6947b78d"
      },
      "source": [
        "## Step 2.  Loss Function"
      ]
    },
    {
      "cell_type": "code",
      "execution_count": 4,
      "id": "dbd1515b",
      "metadata": {
        "id": "dbd1515b"
      },
      "outputs": [],
      "source": [
        "loss = nn.CrossEntropyLoss()"
      ]
    },
    {
      "cell_type": "markdown",
      "id": "098332de",
      "metadata": {
        "id": "098332de"
      },
      "source": [
        "## Step 3. Optimizer"
      ]
    },
    {
      "cell_type": "code",
      "execution_count": 5,
      "id": "bc70ea1f",
      "metadata": {
        "id": "bc70ea1f"
      },
      "outputs": [],
      "source": [
        "optimizer = torch.optim.Adam(model.parameters(), lr=0.001)"
      ]
    },
    {
      "cell_type": "markdown",
      "id": "20bbcf0c",
      "metadata": {
        "id": "20bbcf0c"
      },
      "source": [
        "## Step 4. Train Loop"
      ]
    },
    {
      "cell_type": "code",
      "execution_count": null,
      "id": "22aa87ed",
      "metadata": {
        "id": "22aa87ed",
        "colab": {
          "base_uri": "https://localhost:8080/"
        },
        "outputId": "3a9e765c-c65b-41c3-e84b-8a9aea2c8908"
      },
      "outputs": [
        {
          "output_type": "stream",
          "name": "stdout",
          "text": [
            "Epoch [1/20], Step [10/204], Loss: 6.9078\n",
            "Epoch [1/20], Step [20/204], Loss: 6.9078\n",
            "Epoch [1/20], Step [30/204], Loss: 6.9078\n"
          ]
        }
      ],
      "source": [
        "num_epochs = 20\n",
        "for epoch in range(num_epochs):\n",
        "\n",
        "    running_loss = 0.0\n",
        "    total_trained = 0\n",
        "\n",
        "    for batch_idx, (inputs, labels) in enumerate(train_loader):\n",
        "        inputs, labels = inputs.to(device), labels.to(device)\n",
        "\n",
        "        optimizer.zero_grad()\n",
        "\n",
        "        outputs = model(inputs)\n",
        "\n",
        "        loss_value = loss(outputs, labels)\n",
        "\n",
        "        loss_value.backward()\n",
        "        optimizer.step()\n",
        "\n",
        "        running_loss += loss_value.item() * inputs.size(0)\n",
        "        total_trained += labels.size(0)\n",
        "\n",
        "        # Print statistics every 10 batches\n",
        "        if (batch_idx + 1) % 10 == 0:\n",
        "            print(f'Epoch [{epoch+1}/{num_epochs}], Step [{batch_idx+1}/{len(train_loader)}], Loss: {loss_value.item():.4f}')\n",
        "\n",
        "    # Print the average loss for this epoch\n",
        "    avg_loss = running_loss / total_trained\n",
        "    print(f'Epoch [{epoch+1}/{num_epochs}], Average Loss: {avg_loss:.4f}')\n",
        "\n",
        "print(\"Training completed!\")\n",
        "\n"
      ]
    },
    {
      "cell_type": "code",
      "source": [],
      "metadata": {
        "id": "vLSh4WhbI-7B"
      },
      "id": "vLSh4WhbI-7B",
      "execution_count": null,
      "outputs": []
    }
  ],
  "metadata": {
    "kernelspec": {
      "display_name": "Python 3 (ipykernel)",
      "language": "python",
      "name": "python3"
    },
    "language_info": {
      "codemirror_mode": {
        "name": "ipython",
        "version": 3
      },
      "file_extension": ".py",
      "mimetype": "text/x-python",
      "name": "python",
      "nbconvert_exporter": "python",
      "pygments_lexer": "ipython3",
      "version": "3.10.5"
    },
    "colab": {
      "provenance": [],
      "include_colab_link": true
    }
  },
  "nbformat": 4,
  "nbformat_minor": 5
}